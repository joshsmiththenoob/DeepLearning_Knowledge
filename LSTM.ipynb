{
 "cells": [
  {
   "cell_type": "code",
   "execution_count": 213,
   "metadata": {},
   "outputs": [],
   "source": [
    "# Recurrent Neural Network (LSTM)\n"
   ]
  },
  {
   "cell_type": "code",
   "execution_count": 214,
   "metadata": {},
   "outputs": [],
   "source": [
    "'''Part 1 - Data Processing'''\n",
    "# Importing lib\n",
    "import numpy as np\n",
    "import matplotlib.pyplot as plt\n",
    "import pandas as pd\n"
   ]
  },
  {
   "cell_type": "code",
   "execution_count": 215,
   "metadata": {},
   "outputs": [
    {
     "data": {
      "text/plain": [
       "array([[Timestamp('2012-01-03 00:00:00'), 325.25],\n",
       "       [Timestamp('2012-01-04 00:00:00'), 331.27],\n",
       "       [Timestamp('2012-01-05 00:00:00'), 329.83],\n",
       "       ...,\n",
       "       [Timestamp('2016-12-28 00:00:00'), 793.7],\n",
       "       [Timestamp('2016-12-29 00:00:00'), 783.33],\n",
       "       [Timestamp('2016-12-30 00:00:00'), 782.75]], dtype=object)"
      ]
     },
     "execution_count": 215,
     "metadata": {},
     "output_type": "execute_result"
    }
   ],
   "source": [
    "# Importing the training set\n",
    "dataset_train = pd.read_csv(r'./Part 3 - Recurrent Neural Networks/Google_Stock_Price_Train.csv')\n",
    "dataset_train\n",
    "\n",
    "\n",
    "# 選擇一定範圍的csv\n",
    "training_set = dataset_train.iloc[:,:2]\n",
    "\n",
    "\n",
    "# Date欄位的單位設置為 date time\n",
    "training_set['Date'] = pd.to_datetime(training_set['Date'], format = '%m/%d/%Y')\n",
    "\n",
    "\n",
    "# # Date欄位視為Index -> 不屬於表格內的內容\n",
    "# training_set = training_set.set_index('Date')\n",
    "\n",
    "\n",
    "# 將pd 轉換為矩陣array純數值 array\n",
    "training_set = training_set.values\n",
    "training_set"
   ]
  },
  {
   "cell_type": "code",
   "execution_count": 216,
   "metadata": {},
   "outputs": [
    {
     "data": {
      "text/plain": [
       "pandas._libs.tslibs.timestamps.Timestamp"
      ]
     },
     "execution_count": 216,
     "metadata": {},
     "output_type": "execute_result"
    }
   ],
   "source": [
    "# array[列(筆數),欄[行數]]\n",
    "type(training_set[1,0])"
   ]
  },
  {
   "cell_type": "code",
   "execution_count": 217,
   "metadata": {},
   "outputs": [
    {
     "data": {
      "text/plain": [
       "(1258, 2)"
      ]
     },
     "execution_count": 217,
     "metadata": {},
     "output_type": "execute_result"
    }
   ],
   "source": [
    "training_set.shape"
   ]
  },
  {
   "cell_type": "code",
   "execution_count": 218,
   "metadata": {},
   "outputs": [
    {
     "data": {
      "text/plain": [
       "array([325.25, 331.27, 329.83, ..., 793.7, 783.33, 782.75], dtype=object)"
      ]
     },
     "execution_count": 218,
     "metadata": {},
     "output_type": "execute_result"
    }
   ],
   "source": [
    "training_set[:,1]"
   ]
  },
  {
   "cell_type": "code",
   "execution_count": 219,
   "metadata": {},
   "outputs": [
    {
     "data": {
      "text/plain": [
       "array([[Timestamp('2012-01-03 00:00:00'), 0.08581367661284323],\n",
       "       [Timestamp('2012-01-04 00:00:00'), 0.09701242651983033],\n",
       "       [Timestamp('2012-01-05 00:00:00'), 0.0943336557779596],\n",
       "       ...,\n",
       "       [Timestamp('2016-12-28 00:00:00'), 0.9572512835776472],\n",
       "       [Timestamp('2016-12-29 00:00:00'), 0.9379604137212592],\n",
       "       [Timestamp('2016-12-30 00:00:00'), 0.9368814643946723]],\n",
       "      dtype=object)"
      ]
     },
     "execution_count": 219,
     "metadata": {},
     "output_type": "execute_result"
    }
   ],
   "source": [
    "# Feature Scaling (Z-score Standardisation標準化 or Normalization 歸一化) -> 這邊使用歸一化 MinMax Normalization\n",
    "from sklearn.preprocessing import MinMaxScaler\n",
    "\n",
    "\n",
    "# 設置MinMax 歸一化的數據 0~1\n",
    "sc = MinMaxScaler(feature_range=(0,1))\n",
    "training_set_new = sc.fit_transform(training_set[:,1].reshape(-1, 1)).reshape(-1,)\n",
    "training_set[:,1] = training_set_new\n",
    "\n",
    "# fit 的意思 : 會記錄我們目前訓練數據的Max(最大值)、Min(最小值) = 歸一化數值的特徵(規矩)-> 以後預測未知的數據在做歸一化時以這個為基準做歸一化\n",
    "# -> 這個資料對於我的模型所得到的\"平均值mean\"的距離 std\n",
    "training_set_scaled = training_set\n",
    "training_set_scaled"
   ]
  },
  {
   "cell_type": "code",
   "execution_count": 220,
   "metadata": {},
   "outputs": [],
   "source": [
    "# Creating a data Structure with 60 timesteps and 1 output -> 回顧60個時間點，進而預估未來1個的時間點\n",
    "# 回顧的時間點(查看狀態)的多寡必定會影響預測未來的數值\n",
    "look_back = 60\n",
    "time_step = 1\n",
    "\n",
    "X_train = []\n",
    "Y_train = [] \n",
    "\n",
    "\n",
    "# 一個dataset，共有len(training_set) - look_back - time_step + 1\n",
    "# 從look_back處開始滑動 -> 至 len(training_set) - time_step + 1 處\n",
    "for i in range(look_back, len(training_set_scaled) - time_step +1):\n",
    "    X_train.append(training_set_scaled[i - 60 : i, 1])\n",
    "    Y_train.append(training_set_scaled[i : i + time_step, 1])\n",
    "    \n",
    "X_train, Y_train = np.array(X_train).astype(float), np.array(Y_train).astype(float)\n",
    "\n",
    "\n",
    "\n",
    "    "
   ]
  },
  {
   "cell_type": "code",
   "execution_count": 221,
   "metadata": {},
   "outputs": [
    {
     "data": {
      "text/plain": [
       "(1198, 60, 1)"
      ]
     },
     "execution_count": 221,
     "metadata": {},
     "output_type": "execute_result"
    }
   ],
   "source": [
    "# Reshaping ， 重塑時序資料的型態 (一般情況可不用做此步驟)\n",
    "# 真正的時序資料型態 = (時序資料(窗口)數量, 窗口有多少個時間點, 每個時間點共有幾個特徵(此處只有一個))\n",
    "X_train = X_train.reshape(len(X_train),len(X_train[0]),1)\n",
    "X_train.shape"
   ]
  },
  {
   "cell_type": "code",
   "execution_count": 222,
   "metadata": {},
   "outputs": [
    {
     "data": {
      "text/plain": [
       "(1198, 1)"
      ]
     },
     "execution_count": 222,
     "metadata": {},
     "output_type": "execute_result"
    }
   ],
   "source": [
    "Y_train.shape"
   ]
  },
  {
   "cell_type": "code",
   "execution_count": 223,
   "metadata": {},
   "outputs": [],
   "source": [
    "'''Part  - Building the RNN(LSTM)'''\n",
    "from keras.models import Sequential\n",
    "from keras.layers import Dense\n",
    "from keras.layers import LSTM\n",
    "from keras.layers import Dropout\n"
   ]
  },
  {
   "cell_type": "code",
   "execution_count": 224,
   "metadata": {},
   "outputs": [
    {
     "data": {
      "text/plain": [
       "1"
      ]
     },
     "execution_count": 224,
     "metadata": {},
     "output_type": "execute_result"
    }
   ],
   "source": [
    "len(X_train[0][0])"
   ]
  },
  {
   "cell_type": "code",
   "execution_count": 225,
   "metadata": {},
   "outputs": [
    {
     "data": {
      "text/plain": [
       "int"
      ]
     },
     "execution_count": 225,
     "metadata": {},
     "output_type": "execute_result"
    }
   ],
   "source": [
    "type(Y_train.shape[1])"
   ]
  },
  {
   "cell_type": "code",
   "execution_count": 226,
   "metadata": {},
   "outputs": [],
   "source": [
    "# Initialising the RNN (LSTM)\n",
    "# 預估時序資料 -> 連續資料 -> 未來趨勢 -> 回歸(Regression)\n",
    "model = Sequential()\n",
    "\n",
    "\n",
    "# Addint the LSTM layer and some Dropout regularization\n",
    "# return_sequence : 如果要建立多層 LSTM的話，要用 True\n",
    "model.add(LSTM(units = 50, return_sequences = True, input_shape = (X_train.shape[1], X_train.shape[2])))\n",
    "\n",
    "\n",
    "# 增進或者微調Model的選項 -> Dropout ， 在訓練時丟去一定比例(Drop out rate)的神經元去訓練，但最終訓練時神經元數目是一樣的\n",
    "# model.add(Dropout(Drop out Rate)) -> 通常Drop 20% -> 0.2即可\n",
    "model.add(Dropout(0.2))\n",
    "\n",
    "\n",
    "# 再度增加LSTM模型層數\n",
    "# 增加第二層LSTM + Dropout 層\n",
    "model.add(LSTM(units = 50, return_sequences = True))\n",
    "model.add(Dropout(0.2))\n",
    "\n",
    "\n",
    "# 增加第三層LSTM + Dropout 層\n",
    "model.add(LSTM(units = 50, return_sequences = True))\n",
    "model.add(Dropout(0.2))\n",
    "\n",
    "\n",
    "# 增加最後一層LSTM + Dropout 層 以及 最後的一維全連接層 -> 最後輸出進行回歸決策\n",
    "model.add(LSTM(units = 50)) # LSTM下一層不再接LSTM層的話，就不用return_sequences = True\n",
    "model.add(Dropout(0.2))\n",
    "# 全連接層為我們輸出的結果 -> 下一個時間的預測結果(資料型態) = Y 標籤.shape = 預估幾個時間點的幾個特徵\n",
    "# 因為 Dense 全連接層的神經元只能是個\"數字\" -> 所以Output數量是 預測時間點數 * 每個時間點的特徵數\n",
    "model.add(Dense(units = 1))"
   ]
  },
  {
   "cell_type": "code",
   "execution_count": 227,
   "metadata": {},
   "outputs": [],
   "source": [
    "# Compiling the RNN (LSTM)\n",
    "# MSE 通常是用在回歸 -> 預測連續數據時使用\n",
    "model.compile(loss = 'mse', optimizer = 'adam' )"
   ]
  },
  {
   "cell_type": "code",
   "execution_count": 228,
   "metadata": {},
   "outputs": [
    {
     "name": "stdout",
     "output_type": "stream",
     "text": [
      "Epoch 1/150\n",
      "38/38 [==============================] - 4s 41ms/step - loss: 0.0521\n",
      "Epoch 2/150\n",
      "38/38 [==============================] - 1s 28ms/step - loss: 0.0076\n",
      "Epoch 3/150\n",
      "38/38 [==============================] - 1s 29ms/step - loss: 0.0064\n",
      "Epoch 4/150\n",
      "38/38 [==============================] - 1s 29ms/step - loss: 0.0056\n",
      "Epoch 5/150\n",
      "38/38 [==============================] - 1s 30ms/step - loss: 0.0051\n",
      "Epoch 6/150\n",
      "38/38 [==============================] - 1s 29ms/step - loss: 0.0049\n",
      "Epoch 7/150\n",
      "38/38 [==============================] - 1s 30ms/step - loss: 0.0046\n",
      "Epoch 8/150\n",
      "38/38 [==============================] - 1s 27ms/step - loss: 0.0047\n",
      "Epoch 9/150\n",
      "38/38 [==============================] - 1s 26ms/step - loss: 0.0049\n",
      "Epoch 10/150\n",
      "38/38 [==============================] - 1s 26ms/step - loss: 0.0043\n",
      "Epoch 11/150\n",
      "38/38 [==============================] - 1s 27ms/step - loss: 0.0039\n",
      "Epoch 12/150\n",
      "38/38 [==============================] - 1s 26ms/step - loss: 0.0036\n",
      "Epoch 13/150\n",
      "38/38 [==============================] - 1s 28ms/step - loss: 0.0043\n",
      "Epoch 14/150\n",
      "38/38 [==============================] - 1s 28ms/step - loss: 0.0045\n",
      "Epoch 15/150\n",
      "38/38 [==============================] - 1s 27ms/step - loss: 0.0038\n",
      "Epoch 16/150\n",
      "38/38 [==============================] - 1s 27ms/step - loss: 0.0037\n",
      "Epoch 17/150\n",
      "38/38 [==============================] - 1s 26ms/step - loss: 0.0037\n",
      "Epoch 18/150\n",
      "38/38 [==============================] - 1s 28ms/step - loss: 0.0035\n",
      "Epoch 19/150\n",
      "38/38 [==============================] - 1s 27ms/step - loss: 0.0039\n",
      "Epoch 20/150\n",
      "38/38 [==============================] - 1s 28ms/step - loss: 0.0032\n",
      "Epoch 21/150\n",
      "38/38 [==============================] - 1s 32ms/step - loss: 0.0033\n",
      "Epoch 22/150\n",
      "38/38 [==============================] - 1s 29ms/step - loss: 0.0033\n",
      "Epoch 23/150\n",
      "38/38 [==============================] - 1s 28ms/step - loss: 0.0033\n",
      "Epoch 24/150\n",
      "38/38 [==============================] - 1s 28ms/step - loss: 0.0029\n",
      "Epoch 25/150\n",
      "38/38 [==============================] - 1s 29ms/step - loss: 0.0030\n",
      "Epoch 26/150\n",
      "38/38 [==============================] - 1s 29ms/step - loss: 0.0033\n",
      "Epoch 27/150\n",
      "38/38 [==============================] - 1s 28ms/step - loss: 0.0032\n",
      "Epoch 28/150\n",
      "38/38 [==============================] - 1s 27ms/step - loss: 0.0032\n",
      "Epoch 29/150\n",
      "38/38 [==============================] - 1s 28ms/step - loss: 0.0030\n",
      "Epoch 30/150\n",
      "38/38 [==============================] - 1s 29ms/step - loss: 0.0028\n",
      "Epoch 31/150\n",
      "38/38 [==============================] - 1s 29ms/step - loss: 0.0028\n",
      "Epoch 32/150\n",
      "38/38 [==============================] - 1s 30ms/step - loss: 0.0027\n",
      "Epoch 33/150\n",
      "38/38 [==============================] - 1s 28ms/step - loss: 0.0029\n",
      "Epoch 34/150\n",
      "38/38 [==============================] - 1s 29ms/step - loss: 0.0026\n",
      "Epoch 35/150\n",
      "38/38 [==============================] - 1s 28ms/step - loss: 0.0028\n",
      "Epoch 36/150\n",
      "38/38 [==============================] - 1s 28ms/step - loss: 0.0034\n",
      "Epoch 37/150\n",
      "38/38 [==============================] - 1s 28ms/step - loss: 0.0031\n",
      "Epoch 38/150\n",
      "38/38 [==============================] - 1s 26ms/step - loss: 0.0026\n",
      "Epoch 39/150\n",
      "38/38 [==============================] - 1s 26ms/step - loss: 0.0027\n",
      "Epoch 40/150\n",
      "38/38 [==============================] - 1s 26ms/step - loss: 0.0029\n",
      "Epoch 41/150\n",
      "38/38 [==============================] - 1s 26ms/step - loss: 0.0028\n",
      "Epoch 42/150\n",
      "38/38 [==============================] - 1s 25ms/step - loss: 0.0024\n",
      "Epoch 43/150\n",
      "38/38 [==============================] - 1s 26ms/step - loss: 0.0027\n",
      "Epoch 44/150\n",
      "38/38 [==============================] - 1s 26ms/step - loss: 0.0024\n",
      "Epoch 45/150\n",
      "38/38 [==============================] - 1s 26ms/step - loss: 0.0026\n",
      "Epoch 46/150\n",
      "38/38 [==============================] - 1s 26ms/step - loss: 0.0026\n",
      "Epoch 47/150\n",
      "38/38 [==============================] - 1s 26ms/step - loss: 0.0024\n",
      "Epoch 48/150\n",
      "38/38 [==============================] - 1s 26ms/step - loss: 0.0030\n",
      "Epoch 49/150\n",
      "38/38 [==============================] - 1s 27ms/step - loss: 0.0024\n",
      "Epoch 50/150\n",
      "38/38 [==============================] - 1s 27ms/step - loss: 0.0024\n",
      "Epoch 51/150\n",
      "38/38 [==============================] - 1s 26ms/step - loss: 0.0023\n",
      "Epoch 52/150\n",
      "38/38 [==============================] - 1s 26ms/step - loss: 0.0020\n",
      "Epoch 53/150\n",
      "38/38 [==============================] - 1s 28ms/step - loss: 0.0023\n",
      "Epoch 54/150\n",
      "38/38 [==============================] - 1s 31ms/step - loss: 0.0023\n",
      "Epoch 55/150\n",
      "38/38 [==============================] - 1s 28ms/step - loss: 0.0021\n",
      "Epoch 56/150\n",
      "38/38 [==============================] - 1s 27ms/step - loss: 0.0025\n",
      "Epoch 57/150\n",
      "38/38 [==============================] - 1s 27ms/step - loss: 0.0022\n",
      "Epoch 58/150\n",
      "38/38 [==============================] - 1s 26ms/step - loss: 0.0022\n",
      "Epoch 59/150\n",
      "38/38 [==============================] - 1s 35ms/step - loss: 0.0021\n",
      "Epoch 60/150\n",
      "38/38 [==============================] - 1s 36ms/step - loss: 0.0022\n",
      "Epoch 61/150\n",
      "38/38 [==============================] - 1s 32ms/step - loss: 0.0021\n",
      "Epoch 62/150\n",
      "38/38 [==============================] - 1s 32ms/step - loss: 0.0021\n",
      "Epoch 63/150\n",
      "38/38 [==============================] - 1s 33ms/step - loss: 0.0019\n",
      "Epoch 64/150\n",
      "38/38 [==============================] - 1s 34ms/step - loss: 0.0021\n",
      "Epoch 65/150\n",
      "38/38 [==============================] - 1s 33ms/step - loss: 0.0024\n",
      "Epoch 66/150\n",
      "38/38 [==============================] - 1s 32ms/step - loss: 0.0022\n",
      "Epoch 67/150\n",
      "38/38 [==============================] - 1s 33ms/step - loss: 0.0020\n",
      "Epoch 68/150\n",
      "38/38 [==============================] - 1s 32ms/step - loss: 0.0020\n",
      "Epoch 69/150\n",
      "38/38 [==============================] - 1s 33ms/step - loss: 0.0019\n",
      "Epoch 70/150\n",
      "38/38 [==============================] - 1s 35ms/step - loss: 0.0019\n",
      "Epoch 71/150\n",
      "38/38 [==============================] - 1s 36ms/step - loss: 0.0019\n",
      "Epoch 72/150\n",
      "38/38 [==============================] - 1s 34ms/step - loss: 0.0018\n",
      "Epoch 73/150\n",
      "38/38 [==============================] - 1s 34ms/step - loss: 0.0018\n",
      "Epoch 74/150\n",
      "38/38 [==============================] - 1s 35ms/step - loss: 0.0020\n",
      "Epoch 75/150\n",
      "38/38 [==============================] - 1s 33ms/step - loss: 0.0017\n",
      "Epoch 76/150\n",
      "38/38 [==============================] - 1s 34ms/step - loss: 0.0017\n",
      "Epoch 77/150\n",
      "38/38 [==============================] - 1s 32ms/step - loss: 0.0018\n",
      "Epoch 78/150\n",
      "38/38 [==============================] - 1s 30ms/step - loss: 0.0020\n",
      "Epoch 79/150\n",
      "38/38 [==============================] - 1s 30ms/step - loss: 0.0019\n",
      "Epoch 80/150\n",
      "38/38 [==============================] - 1s 31ms/step - loss: 0.0016\n",
      "Epoch 81/150\n",
      "38/38 [==============================] - 1s 30ms/step - loss: 0.0017\n",
      "Epoch 82/150\n",
      "38/38 [==============================] - 1s 30ms/step - loss: 0.0017\n",
      "Epoch 83/150\n",
      "38/38 [==============================] - 1s 30ms/step - loss: 0.0017\n",
      "Epoch 84/150\n",
      "38/38 [==============================] - 1s 30ms/step - loss: 0.0017\n",
      "Epoch 85/150\n",
      "38/38 [==============================] - 1s 32ms/step - loss: 0.0016\n",
      "Epoch 86/150\n",
      "38/38 [==============================] - 1s 30ms/step - loss: 0.0018\n",
      "Epoch 87/150\n",
      "38/38 [==============================] - 1s 30ms/step - loss: 0.0016\n",
      "Epoch 88/150\n",
      "38/38 [==============================] - 1s 30ms/step - loss: 0.0016\n",
      "Epoch 89/150\n",
      "38/38 [==============================] - 1s 31ms/step - loss: 0.0018\n",
      "Epoch 90/150\n",
      "38/38 [==============================] - 1s 31ms/step - loss: 0.0015\n",
      "Epoch 91/150\n",
      "38/38 [==============================] - 1s 30ms/step - loss: 0.0017\n",
      "Epoch 92/150\n",
      "38/38 [==============================] - 1s 31ms/step - loss: 0.0015\n",
      "Epoch 93/150\n",
      "38/38 [==============================] - 1s 30ms/step - loss: 0.0016\n",
      "Epoch 94/150\n",
      "38/38 [==============================] - 1s 30ms/step - loss: 0.0015\n",
      "Epoch 95/150\n",
      "38/38 [==============================] - 1s 30ms/step - loss: 0.0014\n",
      "Epoch 96/150\n",
      "38/38 [==============================] - 1s 30ms/step - loss: 0.0015\n",
      "Epoch 97/150\n",
      "38/38 [==============================] - 1s 30ms/step - loss: 0.0017\n",
      "Epoch 98/150\n",
      "38/38 [==============================] - 1s 31ms/step - loss: 0.0015\n",
      "Epoch 99/150\n",
      "38/38 [==============================] - 1s 30ms/step - loss: 0.0014\n",
      "Epoch 100/150\n",
      "38/38 [==============================] - 1s 32ms/step - loss: 0.0015\n",
      "Epoch 101/150\n",
      "38/38 [==============================] - 1s 30ms/step - loss: 0.0015\n",
      "Epoch 102/150\n",
      "38/38 [==============================] - 1s 31ms/step - loss: 0.0015\n",
      "Epoch 103/150\n",
      "38/38 [==============================] - 1s 30ms/step - loss: 0.0016\n",
      "Epoch 104/150\n",
      "38/38 [==============================] - 1s 30ms/step - loss: 0.0014\n",
      "Epoch 105/150\n",
      "38/38 [==============================] - 1s 30ms/step - loss: 0.0016\n",
      "Epoch 106/150\n",
      "38/38 [==============================] - 1s 33ms/step - loss: 0.0014\n",
      "Epoch 107/150\n",
      "38/38 [==============================] - 1s 30ms/step - loss: 0.0014\n",
      "Epoch 108/150\n",
      "38/38 [==============================] - 1s 31ms/step - loss: 0.0014\n",
      "Epoch 109/150\n",
      "38/38 [==============================] - 1s 30ms/step - loss: 0.0014\n",
      "Epoch 110/150\n",
      "38/38 [==============================] - 1s 30ms/step - loss: 0.0013\n",
      "Epoch 111/150\n",
      "38/38 [==============================] - 1s 31ms/step - loss: 0.0013\n",
      "Epoch 112/150\n",
      "38/38 [==============================] - 1s 30ms/step - loss: 0.0015\n",
      "Epoch 113/150\n",
      "38/38 [==============================] - 1s 32ms/step - loss: 0.0013\n",
      "Epoch 114/150\n",
      "38/38 [==============================] - 1s 30ms/step - loss: 0.0012\n",
      "Epoch 115/150\n",
      "38/38 [==============================] - 1s 32ms/step - loss: 0.0013\n",
      "Epoch 116/150\n",
      "38/38 [==============================] - 1s 31ms/step - loss: 0.0013\n",
      "Epoch 117/150\n",
      "38/38 [==============================] - 1s 30ms/step - loss: 0.0015\n",
      "Epoch 118/150\n",
      "38/38 [==============================] - 1s 30ms/step - loss: 0.0013\n",
      "Epoch 119/150\n",
      "38/38 [==============================] - 1s 32ms/step - loss: 0.0013\n",
      "Epoch 120/150\n",
      "38/38 [==============================] - 1s 31ms/step - loss: 0.0013\n",
      "Epoch 121/150\n",
      "38/38 [==============================] - 1s 31ms/step - loss: 0.0012\n",
      "Epoch 122/150\n",
      "38/38 [==============================] - 1s 30ms/step - loss: 0.0015\n",
      "Epoch 123/150\n",
      "38/38 [==============================] - 1s 31ms/step - loss: 0.0015\n",
      "Epoch 124/150\n",
      "38/38 [==============================] - 1s 31ms/step - loss: 0.0013\n",
      "Epoch 125/150\n",
      "38/38 [==============================] - 1s 32ms/step - loss: 0.0012\n",
      "Epoch 126/150\n",
      "38/38 [==============================] - 1s 38ms/step - loss: 0.0014\n",
      "Epoch 127/150\n",
      "38/38 [==============================] - 1s 32ms/step - loss: 0.0012\n",
      "Epoch 128/150\n",
      "38/38 [==============================] - 1s 27ms/step - loss: 0.0012\n",
      "Epoch 129/150\n",
      "38/38 [==============================] - 1s 27ms/step - loss: 0.0012\n",
      "Epoch 130/150\n",
      "38/38 [==============================] - 1s 26ms/step - loss: 0.0012\n",
      "Epoch 131/150\n",
      "38/38 [==============================] - 1s 27ms/step - loss: 0.0012\n",
      "Epoch 132/150\n",
      "38/38 [==============================] - 1s 25ms/step - loss: 9.8837e-04\n",
      "Epoch 133/150\n",
      "38/38 [==============================] - 1s 26ms/step - loss: 0.0013\n",
      "Epoch 134/150\n",
      "38/38 [==============================] - 1s 27ms/step - loss: 0.0012\n",
      "Epoch 135/150\n",
      "38/38 [==============================] - 1s 26ms/step - loss: 0.0013\n",
      "Epoch 136/150\n",
      "38/38 [==============================] - 1s 27ms/step - loss: 0.0012\n",
      "Epoch 137/150\n",
      "38/38 [==============================] - 1s 26ms/step - loss: 0.0011\n",
      "Epoch 138/150\n",
      "38/38 [==============================] - 1s 27ms/step - loss: 0.0013\n",
      "Epoch 139/150\n",
      "38/38 [==============================] - 1s 26ms/step - loss: 0.0013\n",
      "Epoch 140/150\n",
      "38/38 [==============================] - 1s 26ms/step - loss: 0.0011\n",
      "Epoch 141/150\n",
      "38/38 [==============================] - 1s 26ms/step - loss: 0.0012\n",
      "Epoch 142/150\n",
      "38/38 [==============================] - 1s 26ms/step - loss: 0.0012\n",
      "Epoch 143/150\n",
      "38/38 [==============================] - 1s 25ms/step - loss: 0.0011\n",
      "Epoch 144/150\n",
      "38/38 [==============================] - 1s 26ms/step - loss: 0.0011\n",
      "Epoch 145/150\n",
      "38/38 [==============================] - 1s 26ms/step - loss: 0.0011\n",
      "Epoch 146/150\n",
      "38/38 [==============================] - 1s 25ms/step - loss: 0.0012\n",
      "Epoch 147/150\n",
      "38/38 [==============================] - 1s 26ms/step - loss: 0.0011\n",
      "Epoch 148/150\n",
      "38/38 [==============================] - 1s 26ms/step - loss: 0.0011\n",
      "Epoch 149/150\n",
      "38/38 [==============================] - 1s 25ms/step - loss: 0.0013\n",
      "Epoch 150/150\n",
      "38/38 [==============================] - 1s 25ms/step - loss: 0.0013\n"
     ]
    },
    {
     "data": {
      "text/plain": [
       "<keras.callbacks.History at 0x1a255831790>"
      ]
     },
     "execution_count": 228,
     "metadata": {},
     "output_type": "execute_result"
    }
   ],
   "source": [
    "# Fitting the RNN (LSTM) to the Training set\n",
    "model.fit( X_train,  Y_train, epochs = 150, batch_size = 32)"
   ]
  },
  {
   "cell_type": "code",
   "execution_count": 229,
   "metadata": {},
   "outputs": [
    {
     "data": {
      "text/html": [
       "<div>\n",
       "<style scoped>\n",
       "    .dataframe tbody tr th:only-of-type {\n",
       "        vertical-align: middle;\n",
       "    }\n",
       "\n",
       "    .dataframe tbody tr th {\n",
       "        vertical-align: top;\n",
       "    }\n",
       "\n",
       "    .dataframe thead th {\n",
       "        text-align: right;\n",
       "    }\n",
       "</style>\n",
       "<table border=\"1\" class=\"dataframe\">\n",
       "  <thead>\n",
       "    <tr style=\"text-align: right;\">\n",
       "      <th></th>\n",
       "      <th>Date</th>\n",
       "      <th>Open</th>\n",
       "      <th>High</th>\n",
       "      <th>Low</th>\n",
       "      <th>Close</th>\n",
       "      <th>Volume</th>\n",
       "    </tr>\n",
       "  </thead>\n",
       "  <tbody>\n",
       "    <tr>\n",
       "      <th>0</th>\n",
       "      <td>1/3/2017</td>\n",
       "      <td>778.81</td>\n",
       "      <td>789.63</td>\n",
       "      <td>775.80</td>\n",
       "      <td>786.14</td>\n",
       "      <td>1,657,300</td>\n",
       "    </tr>\n",
       "    <tr>\n",
       "      <th>1</th>\n",
       "      <td>1/4/2017</td>\n",
       "      <td>788.36</td>\n",
       "      <td>791.34</td>\n",
       "      <td>783.16</td>\n",
       "      <td>786.90</td>\n",
       "      <td>1,073,000</td>\n",
       "    </tr>\n",
       "    <tr>\n",
       "      <th>2</th>\n",
       "      <td>1/5/2017</td>\n",
       "      <td>786.08</td>\n",
       "      <td>794.48</td>\n",
       "      <td>785.02</td>\n",
       "      <td>794.02</td>\n",
       "      <td>1,335,200</td>\n",
       "    </tr>\n",
       "    <tr>\n",
       "      <th>3</th>\n",
       "      <td>1/6/2017</td>\n",
       "      <td>795.26</td>\n",
       "      <td>807.90</td>\n",
       "      <td>792.20</td>\n",
       "      <td>806.15</td>\n",
       "      <td>1,640,200</td>\n",
       "    </tr>\n",
       "    <tr>\n",
       "      <th>4</th>\n",
       "      <td>1/9/2017</td>\n",
       "      <td>806.40</td>\n",
       "      <td>809.97</td>\n",
       "      <td>802.83</td>\n",
       "      <td>806.65</td>\n",
       "      <td>1,272,400</td>\n",
       "    </tr>\n",
       "    <tr>\n",
       "      <th>5</th>\n",
       "      <td>1/10/2017</td>\n",
       "      <td>807.86</td>\n",
       "      <td>809.13</td>\n",
       "      <td>803.51</td>\n",
       "      <td>804.79</td>\n",
       "      <td>1,176,800</td>\n",
       "    </tr>\n",
       "    <tr>\n",
       "      <th>6</th>\n",
       "      <td>1/11/2017</td>\n",
       "      <td>805.00</td>\n",
       "      <td>808.15</td>\n",
       "      <td>801.37</td>\n",
       "      <td>807.91</td>\n",
       "      <td>1,065,900</td>\n",
       "    </tr>\n",
       "    <tr>\n",
       "      <th>7</th>\n",
       "      <td>1/12/2017</td>\n",
       "      <td>807.14</td>\n",
       "      <td>807.39</td>\n",
       "      <td>799.17</td>\n",
       "      <td>806.36</td>\n",
       "      <td>1,353,100</td>\n",
       "    </tr>\n",
       "    <tr>\n",
       "      <th>8</th>\n",
       "      <td>1/13/2017</td>\n",
       "      <td>807.48</td>\n",
       "      <td>811.22</td>\n",
       "      <td>806.69</td>\n",
       "      <td>807.88</td>\n",
       "      <td>1,099,200</td>\n",
       "    </tr>\n",
       "    <tr>\n",
       "      <th>9</th>\n",
       "      <td>1/17/2017</td>\n",
       "      <td>807.08</td>\n",
       "      <td>807.14</td>\n",
       "      <td>800.37</td>\n",
       "      <td>804.61</td>\n",
       "      <td>1,362,100</td>\n",
       "    </tr>\n",
       "    <tr>\n",
       "      <th>10</th>\n",
       "      <td>1/18/2017</td>\n",
       "      <td>805.81</td>\n",
       "      <td>806.21</td>\n",
       "      <td>800.99</td>\n",
       "      <td>806.07</td>\n",
       "      <td>1,294,400</td>\n",
       "    </tr>\n",
       "    <tr>\n",
       "      <th>11</th>\n",
       "      <td>1/19/2017</td>\n",
       "      <td>805.12</td>\n",
       "      <td>809.48</td>\n",
       "      <td>801.80</td>\n",
       "      <td>802.17</td>\n",
       "      <td>919,300</td>\n",
       "    </tr>\n",
       "    <tr>\n",
       "      <th>12</th>\n",
       "      <td>1/20/2017</td>\n",
       "      <td>806.91</td>\n",
       "      <td>806.91</td>\n",
       "      <td>801.69</td>\n",
       "      <td>805.02</td>\n",
       "      <td>1,670,000</td>\n",
       "    </tr>\n",
       "    <tr>\n",
       "      <th>13</th>\n",
       "      <td>1/23/2017</td>\n",
       "      <td>807.25</td>\n",
       "      <td>820.87</td>\n",
       "      <td>803.74</td>\n",
       "      <td>819.31</td>\n",
       "      <td>1,963,600</td>\n",
       "    </tr>\n",
       "    <tr>\n",
       "      <th>14</th>\n",
       "      <td>1/24/2017</td>\n",
       "      <td>822.30</td>\n",
       "      <td>825.90</td>\n",
       "      <td>817.82</td>\n",
       "      <td>823.87</td>\n",
       "      <td>1,474,000</td>\n",
       "    </tr>\n",
       "    <tr>\n",
       "      <th>15</th>\n",
       "      <td>1/25/2017</td>\n",
       "      <td>829.62</td>\n",
       "      <td>835.77</td>\n",
       "      <td>825.06</td>\n",
       "      <td>835.67</td>\n",
       "      <td>1,494,500</td>\n",
       "    </tr>\n",
       "    <tr>\n",
       "      <th>16</th>\n",
       "      <td>1/26/2017</td>\n",
       "      <td>837.81</td>\n",
       "      <td>838.00</td>\n",
       "      <td>827.01</td>\n",
       "      <td>832.15</td>\n",
       "      <td>2,973,900</td>\n",
       "    </tr>\n",
       "    <tr>\n",
       "      <th>17</th>\n",
       "      <td>1/27/2017</td>\n",
       "      <td>834.71</td>\n",
       "      <td>841.95</td>\n",
       "      <td>820.44</td>\n",
       "      <td>823.31</td>\n",
       "      <td>2,965,800</td>\n",
       "    </tr>\n",
       "    <tr>\n",
       "      <th>18</th>\n",
       "      <td>1/30/2017</td>\n",
       "      <td>814.66</td>\n",
       "      <td>815.84</td>\n",
       "      <td>799.80</td>\n",
       "      <td>802.32</td>\n",
       "      <td>3,246,600</td>\n",
       "    </tr>\n",
       "    <tr>\n",
       "      <th>19</th>\n",
       "      <td>1/31/2017</td>\n",
       "      <td>796.86</td>\n",
       "      <td>801.25</td>\n",
       "      <td>790.52</td>\n",
       "      <td>796.79</td>\n",
       "      <td>2,160,600</td>\n",
       "    </tr>\n",
       "  </tbody>\n",
       "</table>\n",
       "</div>"
      ],
      "text/plain": [
       "         Date    Open    High     Low   Close     Volume\n",
       "0    1/3/2017  778.81  789.63  775.80  786.14  1,657,300\n",
       "1    1/4/2017  788.36  791.34  783.16  786.90  1,073,000\n",
       "2    1/5/2017  786.08  794.48  785.02  794.02  1,335,200\n",
       "3    1/6/2017  795.26  807.90  792.20  806.15  1,640,200\n",
       "4    1/9/2017  806.40  809.97  802.83  806.65  1,272,400\n",
       "5   1/10/2017  807.86  809.13  803.51  804.79  1,176,800\n",
       "6   1/11/2017  805.00  808.15  801.37  807.91  1,065,900\n",
       "7   1/12/2017  807.14  807.39  799.17  806.36  1,353,100\n",
       "8   1/13/2017  807.48  811.22  806.69  807.88  1,099,200\n",
       "9   1/17/2017  807.08  807.14  800.37  804.61  1,362,100\n",
       "10  1/18/2017  805.81  806.21  800.99  806.07  1,294,400\n",
       "11  1/19/2017  805.12  809.48  801.80  802.17    919,300\n",
       "12  1/20/2017  806.91  806.91  801.69  805.02  1,670,000\n",
       "13  1/23/2017  807.25  820.87  803.74  819.31  1,963,600\n",
       "14  1/24/2017  822.30  825.90  817.82  823.87  1,474,000\n",
       "15  1/25/2017  829.62  835.77  825.06  835.67  1,494,500\n",
       "16  1/26/2017  837.81  838.00  827.01  832.15  2,973,900\n",
       "17  1/27/2017  834.71  841.95  820.44  823.31  2,965,800\n",
       "18  1/30/2017  814.66  815.84  799.80  802.32  3,246,600\n",
       "19  1/31/2017  796.86  801.25  790.52  796.79  2,160,600"
      ]
     },
     "execution_count": 229,
     "metadata": {},
     "output_type": "execute_result"
    }
   ],
   "source": [
    "'''Part 3 - Making the Predction and Visualizing the results'''\n",
    "\n",
    "# 讀取測試數據 -> 處理測試(未知)數據的方式跟我們處理訓練數據集的方式相同!\n",
    "# Importing the training set\n",
    "dataset_test = pd.read_csv(r'./Part 3 - Recurrent Neural Networks/Google_Stock_Price_Test.csv')\n",
    "dataset_test\n",
    "\n"
   ]
  },
  {
   "cell_type": "code",
   "execution_count": 230,
   "metadata": {},
   "outputs": [
    {
     "data": {
      "text/plain": [
       "(20, 1)"
      ]
     },
     "execution_count": 230,
     "metadata": {},
     "output_type": "execute_result"
    }
   ],
   "source": [
    "\n",
    "# 選擇一定範圍的csv\n",
    "test_set = dataset_test.iloc[:,:2]\n",
    "\n",
    "\n",
    "# Date欄位的單位設置為 date time\n",
    "test_set['Date'] = pd.to_datetime(test_set['Date'], format = '%m/%d/%Y')\n",
    "\n",
    "\n",
    "# # Date欄位視為Index -> 不屬於表格內的內容\n",
    "# training_set = training_set.set_index('Date')\n",
    "\n",
    "\n",
    "# 將pd 轉換為矩陣array純數值 array\n",
    "real_stock_price = test_set.values[:,1]\n",
    "real_stock_price = real_stock_price.reshape(-1,1)\n",
    "real_stock_price.shape"
   ]
  },
  {
   "cell_type": "code",
   "execution_count": 231,
   "metadata": {},
   "outputs": [
    {
     "data": {
      "text/plain": [
       "(20, 1)"
      ]
     },
     "execution_count": 231,
     "metadata": {},
     "output_type": "execute_result"
    }
   ],
   "source": [
    "# 此時的標籤的真實值 -> 真實值是拿rawdata做比較，而不是拿歸一化、標準化的dataset做比較\n",
    "real_stock_price.shape"
   ]
  },
  {
   "cell_type": "code",
   "execution_count": 232,
   "metadata": {},
   "outputs": [
    {
     "data": {
      "text/plain": [
       "0     325.25\n",
       "1     331.27\n",
       "2     329.83\n",
       "3     328.34\n",
       "4     322.04\n",
       "       ...  \n",
       "15    829.62\n",
       "16    837.81\n",
       "17    834.71\n",
       "18    814.66\n",
       "19    796.86\n",
       "Name: Open, Length: 1278, dtype: float64"
      ]
     },
     "execution_count": 232,
     "metadata": {},
     "output_type": "execute_result"
    }
   ],
   "source": [
    "# Step 1: 為了要預測未來的資料，我們除了擁有未來資料真實值外，我們當然還需要前60天的資料\n",
    "# -> 也就是訓練集的raw_data -> 訓練集raw_data + 真實值raw_data -> 才可以預測我們想要的未來趨勢\n",
    "dataset_total = pd.concat((dataset_train['Open'],dataset_test['Open']), axis = 0) # RawData 做垂直連接vstack(axis = 0)的動作\n",
    "\n",
    "dataset_total "
   ]
  },
  {
   "cell_type": "code",
   "execution_count": 233,
   "metadata": {},
   "outputs": [
    {
     "data": {
      "text/plain": [
       "1278"
      ]
     },
     "execution_count": 233,
     "metadata": {},
     "output_type": "execute_result"
    }
   ],
   "source": [
    "len(dataset_total)"
   ]
  },
  {
   "cell_type": "code",
   "execution_count": 236,
   "metadata": {},
   "outputs": [
    {
     "name": "stdout",
     "output_type": "stream",
     "text": [
      "[779.   779.66 777.71 786.66 783.76 781.22 781.65 779.8  787.85 798.24\n",
      " 803.3  795.   804.9  816.68 806.34 801.   808.35 795.47 782.89 778.2\n",
      " 767.25 750.66 774.5  783.4  779.94 791.17 756.54 755.6  746.97 755.2\n",
      " 766.92 771.37 762.61 772.63 767.73 764.26 760.   771.53 770.07 757.44\n",
      " 744.59 757.71 764.73 761.   772.48 780.   785.04 793.9  797.4  797.34\n",
      " 800.4  790.22 796.76 795.84 792.36 790.9  790.68 793.7  783.33 782.75\n",
      " 778.81 788.36 786.08 795.26 806.4  807.86 805.   807.14 807.48 807.08\n",
      " 805.81 805.12 806.91 807.25 822.3  829.62 837.81 834.71 814.66 796.86]\n",
      "<class 'numpy.ndarray'>\n"
     ]
    },
    {
     "data": {
      "text/plain": [
       "(80, 1)"
      ]
     },
     "execution_count": 236,
     "metadata": {},
     "output_type": "execute_result"
    }
   ],
   "source": [
    "# 找出預測所需的資料集範圍 = 預測第一筆 - look_back : 最後一筆 \n",
    "inputs = dataset_total[len(dataset_total) - len(test_set) - look_back : len(dataset_total)].values\n",
    "# inputs = dataset_total[len(dataset_total) - len(test_set) - look_back : ].values\n",
    "print(inputs)\n",
    "inputs.shape\n",
    "print(type(inputs))\n",
    "# reshape 為 (時間點,幾個特徵) = 模型吃的資料型態\n",
    "inputs = inputs.reshape(-1,1)\n",
    "inputs.shape"
   ]
  },
  {
   "cell_type": "code",
   "execution_count": 238,
   "metadata": {},
   "outputs": [
    {
     "data": {
      "text/plain": [
       "array([[0.9299055 ],\n",
       "       [0.93113327],\n",
       "       [0.92750577],\n",
       "       [0.94415507],\n",
       "       [0.93876032],\n",
       "       [0.93403527],\n",
       "       [0.93483518],\n",
       "       [0.9313937 ],\n",
       "       [0.94636878],\n",
       "       [0.96569685],\n",
       "       [0.97510976],\n",
       "       [0.95966962],\n",
       "       [0.97808617],\n",
       "       [1.        ],\n",
       "       [0.98076494],\n",
       "       [0.97083116],\n",
       "       [0.98450406],\n",
       "       [0.96054394],\n",
       "       [0.9371419 ],\n",
       "       [0.92841729],\n",
       "       [0.90804747],\n",
       "       [0.8771858 ],\n",
       "       [0.92153434],\n",
       "       [0.93809063],\n",
       "       [0.93165414],\n",
       "       [0.95254483],\n",
       "       [0.88812412],\n",
       "       [0.88637547],\n",
       "       [0.87032145],\n",
       "       [0.88563137],\n",
       "       [0.90743359],\n",
       "       [0.91571173],\n",
       "       [0.89941588],\n",
       "       [0.91805566],\n",
       "       [0.9089404 ],\n",
       "       [0.9024853 ],\n",
       "       [0.89456061],\n",
       "       [0.91600938],\n",
       "       [0.9132934 ],\n",
       "       [0.88979835],\n",
       "       [0.86589404],\n",
       "       [0.89030062],\n",
       "       [0.90335962],\n",
       "       [0.89642086],\n",
       "       [0.91777662],\n",
       "       [0.93176576],\n",
       "       [0.94114145],\n",
       "       [0.95762334],\n",
       "       [0.96413424],\n",
       "       [0.96402262],\n",
       "       [0.96971501],\n",
       "       [0.95077759],\n",
       "       [0.96294367],\n",
       "       [0.96123223],\n",
       "       [0.95475854],\n",
       "       [0.95204256],\n",
       "       [0.95163331],\n",
       "       [0.95725128],\n",
       "       [0.93796041],\n",
       "       [0.93688146],\n",
       "       [0.92955205],\n",
       "       [0.94731751],\n",
       "       [0.94307612],\n",
       "       [0.96015329],\n",
       "       [0.98087655],\n",
       "       [0.98359253],\n",
       "       [0.97827219],\n",
       "       [0.98225314],\n",
       "       [0.98288563],\n",
       "       [0.98214153],\n",
       "       [0.979779  ],\n",
       "       [0.97849542],\n",
       "       [0.98182528],\n",
       "       [0.98245777],\n",
       "       [1.01045465],\n",
       "       [1.02407173],\n",
       "       [1.03930724],\n",
       "       [1.03354044],\n",
       "       [0.99624228],\n",
       "       [0.9631297 ]])"
      ]
     },
     "execution_count": 238,
     "metadata": {},
     "output_type": "execute_result"
    }
   ],
   "source": [
    "# 找到預測所需要的資料集範圍後，首先以同樣標準(歸一化、標準化特徵)對數據進行標準化 -> 模型觀點 : Hmm...這個數據的每個data對於我的平均值距離有多遠呢?Z-score\n",
    "inputs = sc.transform(inputs)\n",
    "inputs"
   ]
  },
  {
   "cell_type": "code",
   "execution_count": 246,
   "metadata": {},
   "outputs": [
    {
     "data": {
      "text/plain": [
       "(80, 1)"
      ]
     },
     "execution_count": 246,
     "metadata": {},
     "output_type": "execute_result"
    }
   ],
   "source": [
    "inputs.shape"
   ]
  },
  {
   "cell_type": "code",
   "execution_count": 259,
   "metadata": {},
   "outputs": [
    {
     "name": "stdout",
     "output_type": "stream",
     "text": [
      "(20, 60, 1)\n",
      "<class 'numpy.float64'>\n"
     ]
    }
   ],
   "source": [
    "# 找到預測所需要的資料集範圍後，開始產生時序資料(窗口) -> 只需要X特徵 : 某個時間窗口的哪一個時間點的哪個特徵\n",
    "# 其實，窗口底端只移動到數據前 time_step = 1 的地方而已，這裡是為了要看看預測值以及真實值(已知未來資料)的差別而已\n",
    "X_test = []\n",
    "for i in range(look_back , len(inputs)):\n",
    "    X_test.append(inputs[i - look_back : i, :])\n",
    "\n",
    "# 再將list轉換成array : 餵給模型\n",
    "X_test = np.array(X_test)\n",
    "  \n",
    "print(X_test.shape)\n",
    "print(type(X_test[0,0,0]))"
   ]
  },
  {
   "cell_type": "code",
   "execution_count": 268,
   "metadata": {},
   "outputs": [
    {
     "data": {
      "text/plain": [
       "array([[[0.9299055 ],\n",
       "        [0.93113327],\n",
       "        [0.92750577],\n",
       "        ...,\n",
       "        [0.95725128],\n",
       "        [0.93796041],\n",
       "        [0.93688146]],\n",
       "\n",
       "       [[0.93113327],\n",
       "        [0.92750577],\n",
       "        [0.94415507],\n",
       "        ...,\n",
       "        [0.93796041],\n",
       "        [0.93688146],\n",
       "        [0.92955205]],\n",
       "\n",
       "       [[0.92750577],\n",
       "        [0.94415507],\n",
       "        [0.93876032],\n",
       "        ...,\n",
       "        [0.93688146],\n",
       "        [0.92955205],\n",
       "        [0.94731751]],\n",
       "\n",
       "       ...,\n",
       "\n",
       "       [[0.96054394],\n",
       "        [0.9371419 ],\n",
       "        [0.92841729],\n",
       "        ...,\n",
       "        [1.01045465],\n",
       "        [1.02407173],\n",
       "        [1.03930724]],\n",
       "\n",
       "       [[0.9371419 ],\n",
       "        [0.92841729],\n",
       "        [0.90804747],\n",
       "        ...,\n",
       "        [1.02407173],\n",
       "        [1.03930724],\n",
       "        [1.03354044]],\n",
       "\n",
       "       [[0.92841729],\n",
       "        [0.90804747],\n",
       "        [0.8771858 ],\n",
       "        ...,\n",
       "        [1.03930724],\n",
       "        [1.03354044],\n",
       "        [0.99624228]]])"
      ]
     },
     "execution_count": 268,
     "metadata": {},
     "output_type": "execute_result"
    }
   ],
   "source": [
    "X_test"
   ]
  },
  {
   "cell_type": "code",
   "execution_count": 248,
   "metadata": {},
   "outputs": [
    {
     "name": "stdout",
     "output_type": "stream",
     "text": [
      "1/1 [==============================] - 1s 885ms/step\n"
     ]
    },
    {
     "data": {
      "text/plain": [
       "array([[0.9455651 ],\n",
       "       [0.9409847 ],\n",
       "       [0.9493984 ],\n",
       "       [0.9503417 ],\n",
       "       [0.9589133 ],\n",
       "       [0.97332823],\n",
       "       [0.9784411 ],\n",
       "       [0.97578347],\n",
       "       [0.97738695],\n",
       "       [0.9792656 ],\n",
       "       [0.9800229 ],\n",
       "       [0.9793606 ],\n",
       "       [0.9788749 ],\n",
       "       [0.98108923],\n",
       "       [0.9824399 ],\n",
       "       [0.9988059 ],\n",
       "       [1.0114039 ],\n",
       "       [1.0222456 ],\n",
       "       [1.0209899 ],\n",
       "       [0.9994619 ]], dtype=float32)"
      ]
     },
     "execution_count": 248,
     "metadata": {},
     "output_type": "execute_result"
    }
   ],
   "source": [
    "# Preidct  : 預測 : 20個窗口 -> 20個output -> 20個 time_step = 1 (1個時間點)的output ，每個時間點的各有1個特徵\n",
    "predicted_stock_price_scaled = model.predict(X_test)\n",
    "predicted_stock_price_scaled"
   ]
  },
  {
   "cell_type": "code",
   "execution_count": 249,
   "metadata": {},
   "outputs": [
    {
     "data": {
      "text/plain": [
       "array([[787.41797],\n",
       "       [784.95575],\n",
       "       [789.4786 ],\n",
       "       [789.98566],\n",
       "       [794.59344],\n",
       "       [802.3423 ],\n",
       "       [805.09076],\n",
       "       [803.6621 ],\n",
       "       [804.5241 ],\n",
       "       [805.534  ],\n",
       "       [805.9411 ],\n",
       "       [805.585  ],\n",
       "       [805.324  ],\n",
       "       [806.5143 ],\n",
       "       [807.24036],\n",
       "       [816.0381 ],\n",
       "       [822.81024],\n",
       "       [828.63837],\n",
       "       [827.9633 ],\n",
       "       [816.3907 ]], dtype=float32)"
      ]
     },
     "execution_count": 249,
     "metadata": {},
     "output_type": "execute_result"
    }
   ],
   "source": [
    "# 由於模型預測出來的數據Y也是經過歸一化(標準化)的，需要將預測數據\"反標準化\"讓數據回到原始的範圍(單位)\n",
    "predicted_stock_price = sc.inverse_transform(predicted_stock_price_scaled)\n",
    "predicted_stock_price"
   ]
  },
  {
   "cell_type": "code",
   "execution_count": 250,
   "metadata": {},
   "outputs": [
    {
     "data": {
      "text/plain": [
       "(20, 1)"
      ]
     },
     "execution_count": 250,
     "metadata": {},
     "output_type": "execute_result"
    }
   ],
   "source": [
    "predicted_stock_price.shape"
   ]
  },
  {
   "cell_type": "code",
   "execution_count": 5,
   "metadata": {},
   "outputs": [
    {
     "name": "stdout",
     "output_type": "stream",
     "text": [
      "13\n",
      "5\n",
      "[[0, 1, 2, 3], [1, 2, 3, 4], [2, 3, 4, 5], [3, 4, 5, 6], [4, 5, 6, 7], [5, 6, 7, 8], [6, 7, 8, 9], [7, 8, 9, 10]]\n",
      "[[4, 5], [5, 6], [6, 7], [7, 8], [8, 9], [9, 10], [10, 11], [11, 12]]\n"
     ]
    }
   ],
   "source": [
    "# # 時間序列測試\n",
    "\n",
    "# a = [0,1,2,3,4,5,6,7,8,9,10,11,12]\n",
    "# b = [8,9,10,11,12]\n",
    "# luk_back = 4\n",
    "# pred_time_step = 2\n",
    "# print(len(a))\n",
    "# print(len(b))\n",
    "# a[len(a) - len(b) -luk_back : len(a)]\n",
    "\n",
    "# x_train = []\n",
    "# y_train = []\n",
    "\n",
    "# for i in range(luk_back, len(a) - pred_time_step + 1):\n",
    "#     x_train.append(a[i - luk_back : i])\n",
    "#     y_train.append(a[i : i + pred_time_step])\n",
    "\n",
    "# print(x_train)\n",
    "# print(y_train)"
   ]
  },
  {
   "cell_type": "code",
   "execution_count": 251,
   "metadata": {},
   "outputs": [
    {
     "data": {
      "image/png": "[encoded data removed]",
      "text/plain": [
       "<Figure size 640x480 with 1 Axes>"
      ]
     },
     "metadata": {},
     "output_type": "display_data"
    }
   ],
   "source": [
    "#　Visualising the reults : 查看預測值Y_pred以及真實值的差異\n",
    "plt.plot(real_stock_price, color = 'red', label = 'Real Google Stock Price(1st Month of 2017)')\n",
    "plt.plot(predicted_stock_price, color = 'blue', label = 'Predicted Google Stock Price(1st Month of 2017)')\n",
    "plt.title('Google Stock Price Prediction - LSTM')\n",
    "plt.xlabel('Time (Day)')\n",
    "plt.ylabel('Stock Price')\n",
    "plt.legend()\n",
    "plt.show()"
   ]
  },
  {
   "cell_type": "code",
   "execution_count": 283,
   "metadata": {},
   "outputs": [
    {
     "data": {
      "text/plain": [
       "8.811813820539573"
      ]
     },
     "execution_count": 283,
     "metadata": {},
     "output_type": "execute_result"
    }
   ],
   "source": [
    "# 評估 model 對於真實值的誤差 : error = Y_pred - Y_real , error 計算方式 RMSE ( Root Mean Squared Error) : 均方根誤差\n",
    "import math\n",
    "from sklearn.metrics import mean_squared_error\n",
    "rmse = math.sqrt(mean_squared_error(real_stock_price, predicted_stock_price))\n",
    "rmse\n",
    "\n"
   ]
  },
  {
   "cell_type": "code",
   "execution_count": 265,
   "metadata": {},
   "outputs": [],
   "source": [
    "X_test_testing = np.array(X_test).astype(float)"
   ]
  },
  {
   "cell_type": "code",
   "execution_count": 266,
   "metadata": {},
   "outputs": [],
   "source": [
    "real_stock_price_64 = real_stock_price.astype(float)"
   ]
  },
  {
   "cell_type": "code",
   "execution_count": 284,
   "metadata": {},
   "outputs": [
    {
     "name": "stdout",
     "output_type": "stream",
     "text": [
      "1/1 [==============================] - 0s 70ms/step - loss: 2.6871e-04\n"
     ]
    }
   ],
   "source": [
    "# 另一種評估 model 的好壞 -> model.evaluate()\n",
    "\n",
    "# model.evluate() 評估出來的參數(指標)(ex: accuracy, val_loss, loss等等) 是依據當初compile的metric(指標選項)而得出的\n",
    "\n",
    "# 既然Model生出的是歸一化數據，那真實值Y_real的數據也要先歸一化，才可以做loss的計算\n",
    "real_stock_price_scaled = sc.transform(real_stock_price).astype(float)\n",
    "loss = math.sqrt(model.evaluate(X_test,real_stock_price_scaled))"
   ]
  },
  {
   "cell_type": "code",
   "execution_count": 285,
   "metadata": {},
   "outputs": [
    {
     "data": {
      "text/plain": [
       "0.01639223308897783"
      ]
     },
     "execution_count": 285,
     "metadata": {},
     "output_type": "execute_result"
    }
   ],
   "source": [
    "loss"
   ]
  },
  {
   "cell_type": "code",
   "execution_count": null,
   "metadata": {},
   "outputs": [],
   "source": [
    "'''對於上面兩種誤差的計算方式，還是以真實數據去做比較才可以得出較精確的誤差\n",
    "    而不是歸一化後的數據去做計算'''"
   ]
  }
 ],
 "metadata": {
  "kernelspec": {
   "display_name": "env01",
   "language": "python",
   "name": "python3"
  },
  "language_info": {
   "codemirror_mode": {
    "name": "ipython",
    "version": 3
   },
   "file_extension": ".py",
   "mimetype": "text/x-python",
   "name": "python",
   "nbconvert_exporter": "python",
   "pygments_lexer": "ipython3",
   "version": "3.8.10"
  },
  "orig_nbformat": 4
 },
 "nbformat": 4,
 "nbformat_minor": 2
}
