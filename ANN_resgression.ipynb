{
 "cells": [
  {
   "cell_type": "markdown",
   "metadata": {},
   "source": [
    "### **ANN 回歸Regression**\n",
    "**預測未知資料的趨勢** \\\n",
    "-> **預測發電廠在未來一小時產生的發電功率**"
   ]
  },
  {
   "cell_type": "code",
   "execution_count": 38,
   "metadata": {},
   "outputs": [],
   "source": [
    "import numpy as np\n",
    "import pandas as pd\n",
    "import tensorflow as tf\n",
    "import matplotlib.pyplot as plt\n",
    "from sklearn.model_selection import train_test_split\n",
    "from sklearn.preprocessing import MinMaxScaler\n",
    "\n"
   ]
  },
  {
   "cell_type": "markdown",
   "metadata": {},
   "source": [
    "### **資料前處理**\n",
    "\n",
    "欄位 :  \\\n",
    "AT : Average Ambient Temperature \\\n",
    "V : Exhuast Vacuum  \\\n",
    "AP : AMbient Pressure \\\n",
    "RH : Relative Humidity \\\n",
    "PE : Preedicted Electrical energy output "
   ]
  },
  {
   "cell_type": "code",
   "execution_count": 20,
   "metadata": {},
   "outputs": [
    {
     "data": {
      "text/html": [
       "<div>\n",
       "<style scoped>\n",
       "    .dataframe tbody tr th:only-of-type {\n",
       "        vertical-align: middle;\n",
       "    }\n",
       "\n",
       "    .dataframe tbody tr th {\n",
       "        vertical-align: top;\n",
       "    }\n",
       "\n",
       "    .dataframe thead th {\n",
       "        text-align: right;\n",
       "    }\n",
       "</style>\n",
       "<table border=\"1\" class=\"dataframe\">\n",
       "  <thead>\n",
       "    <tr style=\"text-align: right;\">\n",
       "      <th></th>\n",
       "      <th>AT</th>\n",
       "      <th>V</th>\n",
       "      <th>AP</th>\n",
       "      <th>RH</th>\n",
       "      <th>PE</th>\n",
       "    </tr>\n",
       "  </thead>\n",
       "  <tbody>\n",
       "    <tr>\n",
       "      <th>0</th>\n",
       "      <td>14.96</td>\n",
       "      <td>41.76</td>\n",
       "      <td>1024.07</td>\n",
       "      <td>73.17</td>\n",
       "      <td>463.26</td>\n",
       "    </tr>\n",
       "    <tr>\n",
       "      <th>1</th>\n",
       "      <td>25.18</td>\n",
       "      <td>62.96</td>\n",
       "      <td>1020.04</td>\n",
       "      <td>59.08</td>\n",
       "      <td>444.37</td>\n",
       "    </tr>\n",
       "    <tr>\n",
       "      <th>2</th>\n",
       "      <td>5.11</td>\n",
       "      <td>39.40</td>\n",
       "      <td>1012.16</td>\n",
       "      <td>92.14</td>\n",
       "      <td>488.56</td>\n",
       "    </tr>\n",
       "    <tr>\n",
       "      <th>3</th>\n",
       "      <td>20.86</td>\n",
       "      <td>57.32</td>\n",
       "      <td>1010.24</td>\n",
       "      <td>76.64</td>\n",
       "      <td>446.48</td>\n",
       "    </tr>\n",
       "    <tr>\n",
       "      <th>4</th>\n",
       "      <td>10.82</td>\n",
       "      <td>37.50</td>\n",
       "      <td>1009.23</td>\n",
       "      <td>96.62</td>\n",
       "      <td>473.90</td>\n",
       "    </tr>\n",
       "    <tr>\n",
       "      <th>...</th>\n",
       "      <td>...</td>\n",
       "      <td>...</td>\n",
       "      <td>...</td>\n",
       "      <td>...</td>\n",
       "      <td>...</td>\n",
       "    </tr>\n",
       "    <tr>\n",
       "      <th>9563</th>\n",
       "      <td>16.65</td>\n",
       "      <td>49.69</td>\n",
       "      <td>1014.01</td>\n",
       "      <td>91.00</td>\n",
       "      <td>460.03</td>\n",
       "    </tr>\n",
       "    <tr>\n",
       "      <th>9564</th>\n",
       "      <td>13.19</td>\n",
       "      <td>39.18</td>\n",
       "      <td>1023.67</td>\n",
       "      <td>66.78</td>\n",
       "      <td>469.62</td>\n",
       "    </tr>\n",
       "    <tr>\n",
       "      <th>9565</th>\n",
       "      <td>31.32</td>\n",
       "      <td>74.33</td>\n",
       "      <td>1012.92</td>\n",
       "      <td>36.48</td>\n",
       "      <td>429.57</td>\n",
       "    </tr>\n",
       "    <tr>\n",
       "      <th>9566</th>\n",
       "      <td>24.48</td>\n",
       "      <td>69.45</td>\n",
       "      <td>1013.86</td>\n",
       "      <td>62.39</td>\n",
       "      <td>435.74</td>\n",
       "    </tr>\n",
       "    <tr>\n",
       "      <th>9567</th>\n",
       "      <td>21.60</td>\n",
       "      <td>62.52</td>\n",
       "      <td>1017.23</td>\n",
       "      <td>67.87</td>\n",
       "      <td>453.28</td>\n",
       "    </tr>\n",
       "  </tbody>\n",
       "</table>\n",
       "<p>9568 rows × 5 columns</p>\n",
       "</div>"
      ],
      "text/plain": [
       "         AT      V       AP     RH      PE\n",
       "0     14.96  41.76  1024.07  73.17  463.26\n",
       "1     25.18  62.96  1020.04  59.08  444.37\n",
       "2      5.11  39.40  1012.16  92.14  488.56\n",
       "3     20.86  57.32  1010.24  76.64  446.48\n",
       "4     10.82  37.50  1009.23  96.62  473.90\n",
       "...     ...    ...      ...    ...     ...\n",
       "9563  16.65  49.69  1014.01  91.00  460.03\n",
       "9564  13.19  39.18  1023.67  66.78  469.62\n",
       "9565  31.32  74.33  1012.92  36.48  429.57\n",
       "9566  24.48  69.45  1013.86  62.39  435.74\n",
       "9567  21.60  62.52  1017.23  67.87  453.28\n",
       "\n",
       "[9568 rows x 5 columns]"
      ]
     },
     "execution_count": 20,
     "metadata": {},
     "output_type": "execute_result"
    }
   ],
   "source": [
    "# 讀取資料集\n",
    "data_df = pd.read_excel('.\\CCPP\\Folds5x2_pp.xlsx')\n",
    "data_df"
   ]
  },
  {
   "cell_type": "code",
   "execution_count": 21,
   "metadata": {},
   "outputs": [
    {
     "name": "stdout",
     "output_type": "stream",
     "text": [
      "[[  14.96   41.76 1024.07   73.17]\n",
      " [  25.18   62.96 1020.04   59.08]\n",
      " [   5.11   39.4  1012.16   92.14]\n",
      " ...\n",
      " [  31.32   74.33 1012.92   36.48]\n",
      " [  24.48   69.45 1013.86   62.39]\n",
      " [  21.6    62.52 1017.23   67.87]] <class 'numpy.ndarray'> (9568, 4)\n",
      "[463.26 444.37 488.56 ... 429.57 435.74 453.28] <class 'numpy.ndarray'> (9568,)\n"
     ]
    }
   ],
   "source": [
    "# 定義特徵X、標籤Y\n",
    "# 當我在這個特徵X 下， 我得到的發電功率為Y\n",
    "# iloc = numpy選取範圍 [第幾筆資料，第幾個特徵]\n",
    "data_X = data_df.iloc[:,:-1].values\n",
    "print(data_X, type(data_X), data_X.shape)\n",
    "data_Y = data_df.iloc[:, -1].values\n",
    "print(data_Y, type(data_Y), data_Y.shape)"
   ]
  },
  {
   "cell_type": "code",
   "execution_count": 22,
   "metadata": {},
   "outputs": [
    {
     "name": "stdout",
     "output_type": "stream",
     "text": [
      "<class 'numpy.ndarray'> (7654, 4)\n",
      "<class 'numpy.ndarray'> (1914, 4)\n",
      "<class 'numpy.ndarray'> (7654,)\n",
      "<class 'numpy.ndarray'> (1914,)\n"
     ]
    }
   ],
   "source": [
    "# 隨機切割資料集 fomr sci-kit learn\n",
    "data_X_train, data_X_test, data_Y_train, data_Y_test = train_test_split(data_X, data_Y, test_size= 0.2, random_state= 42)\n",
    "print(type(data_X_train), data_X_train.shape)\n",
    "print(type(data_X_test), data_X_test.shape)\n",
    "print(type(data_Y_train), data_Y_train.shape)\n",
    "print(type(data_Y_test), data_Y_test.shape)\n"
   ]
  },
  {
   "cell_type": "code",
   "execution_count": 23,
   "metadata": {},
   "outputs": [
    {
     "data": {
      "text/plain": [
       "array([[  21.92,   49.02, 1009.29,   88.56],\n",
       "       [  11.09,   40.43, 1025.47,   74.97],\n",
       "       [   8.49,   39.61, 1021.05,   87.74],\n",
       "       ...,\n",
       "       [  27.79,   69.23, 1012.86,   45.71],\n",
       "       [  12.26,   41.5 , 1014.87,   89.41],\n",
       "       [  11.75,   40.55, 1018.09,   97.7 ]])"
      ]
     },
     "execution_count": 23,
     "metadata": {},
     "output_type": "execute_result"
    }
   ],
   "source": [
    "data_X_train"
   ]
  },
  {
   "cell_type": "markdown",
   "metadata": {},
   "source": [
    "### **建立ANN模型**\n",
    "\n",
    "**什麼?! 竟然沒有資料標準(規一化)!!!**"
   ]
  },
  {
   "cell_type": "code",
   "execution_count": 24,
   "metadata": {},
   "outputs": [],
   "source": [
    "ann_model = tf.keras.models.Sequential()\n",
    "ann_model.add(tf.keras.layers.Input(shape = (4,)))\n",
    "ann_model.add(tf.keras.layers.Dense(units= 6, activation= 'relu'))\n",
    "ann_model.add(tf.keras.layers.Dense(units= 6, activation= 'relu'))\n",
    "ann_model.add(tf.keras.layers.Dense(units= 1, activation= 'linear'))"
   ]
  },
  {
   "cell_type": "code",
   "execution_count": 25,
   "metadata": {},
   "outputs": [],
   "source": [
    "ann_model.compile(optimizer = 'adam',loss = 'mse') # mse 平均平方誤差 = batch 中 每一筆資料的se(square error)平方誤差的加總並平均"
   ]
  },
  {
   "cell_type": "code",
   "execution_count": 26,
   "metadata": {},
   "outputs": [
    {
     "name": "stdout",
     "output_type": "stream",
     "text": [
      "Epoch 1/100\n"
     ]
    },
    {
     "name": "stdout",
     "output_type": "stream",
     "text": [
      "123/123 - 1s - loss: 274931.6250 - val_loss: 154082.5625 - 1s/epoch - 8ms/step\n",
      "Epoch 2/100\n",
      "123/123 - 0s - loss: 83084.5781 - val_loss: 30871.6387 - 459ms/epoch - 4ms/step\n",
      "Epoch 3/100\n",
      "123/123 - 0s - loss: 9764.5869 - val_loss: 891.9758 - 386ms/epoch - 3ms/step\n",
      "Epoch 4/100\n",
      "123/123 - 0s - loss: 476.0125 - val_loss: 395.6275 - 403ms/epoch - 3ms/step\n",
      "Epoch 5/100\n",
      "123/123 - 0s - loss: 390.9926 - val_loss: 390.8020 - 349ms/epoch - 3ms/step\n",
      "Epoch 6/100\n",
      "123/123 - 0s - loss: 386.0233 - val_loss: 385.6577 - 354ms/epoch - 3ms/step\n",
      "Epoch 7/100\n",
      "123/123 - 0s - loss: 380.5018 - val_loss: 379.6568 - 337ms/epoch - 3ms/step\n",
      "Epoch 8/100\n",
      "123/123 - 0s - loss: 374.3785 - val_loss: 373.3646 - 355ms/epoch - 3ms/step\n",
      "Epoch 9/100\n",
      "123/123 - 0s - loss: 367.7238 - val_loss: 366.4199 - 413ms/epoch - 3ms/step\n",
      "Epoch 10/100\n",
      "123/123 - 0s - loss: 360.6920 - val_loss: 358.9334 - 419ms/epoch - 3ms/step\n",
      "Epoch 11/100\n",
      "123/123 - 0s - loss: 353.0135 - val_loss: 351.0205 - 335ms/epoch - 3ms/step\n",
      "Epoch 12/100\n",
      "123/123 - 0s - loss: 344.9685 - val_loss: 342.7852 - 338ms/epoch - 3ms/step\n",
      "Epoch 13/100\n",
      "123/123 - 0s - loss: 336.5363 - val_loss: 333.7593 - 335ms/epoch - 3ms/step\n",
      "Epoch 14/100\n",
      "123/123 - 0s - loss: 327.4585 - val_loss: 324.5034 - 352ms/epoch - 3ms/step\n",
      "Epoch 15/100\n",
      "123/123 - 0s - loss: 318.0183 - val_loss: 314.8539 - 333ms/epoch - 3ms/step\n",
      "Epoch 16/100\n",
      "123/123 - 0s - loss: 308.2312 - val_loss: 305.2142 - 336ms/epoch - 3ms/step\n",
      "Epoch 17/100\n",
      "123/123 - 0s - loss: 298.2813 - val_loss: 295.3358 - 328ms/epoch - 3ms/step\n",
      "Epoch 18/100\n",
      "123/123 - 0s - loss: 287.9622 - val_loss: 284.0827 - 329ms/epoch - 3ms/step\n",
      "Epoch 19/100\n",
      "123/123 - 0s - loss: 277.1720 - val_loss: 272.9816 - 333ms/epoch - 3ms/step\n",
      "Epoch 20/100\n",
      "123/123 - 0s - loss: 266.2564 - val_loss: 261.8841 - 333ms/epoch - 3ms/step\n",
      "Epoch 21/100\n",
      "123/123 - 0s - loss: 255.0670 - val_loss: 250.7101 - 396ms/epoch - 3ms/step\n",
      "Epoch 22/100\n",
      "123/123 - 0s - loss: 243.5882 - val_loss: 239.0011 - 329ms/epoch - 3ms/step\n",
      "Epoch 23/100\n",
      "123/123 - 0s - loss: 232.1362 - val_loss: 227.8027 - 334ms/epoch - 3ms/step\n",
      "Epoch 24/100\n",
      "123/123 - 0s - loss: 220.7115 - val_loss: 215.7200 - 334ms/epoch - 3ms/step\n",
      "Epoch 25/100\n",
      "123/123 - 0s - loss: 209.0827 - val_loss: 204.0414 - 335ms/epoch - 3ms/step\n",
      "Epoch 26/100\n",
      "123/123 - 0s - loss: 197.4135 - val_loss: 192.8516 - 332ms/epoch - 3ms/step\n",
      "Epoch 27/100\n",
      "123/123 - 0s - loss: 185.8538 - val_loss: 180.9634 - 331ms/epoch - 3ms/step\n",
      "Epoch 28/100\n",
      "123/123 - 0s - loss: 174.2298 - val_loss: 169.4620 - 327ms/epoch - 3ms/step\n",
      "Epoch 29/100\n",
      "123/123 - 0s - loss: 162.9309 - val_loss: 158.5028 - 331ms/epoch - 3ms/step\n",
      "Epoch 30/100\n",
      "123/123 - 0s - loss: 152.0338 - val_loss: 147.6754 - 334ms/epoch - 3ms/step\n",
      "Epoch 31/100\n",
      "123/123 - 0s - loss: 141.5510 - val_loss: 137.1562 - 336ms/epoch - 3ms/step\n",
      "Epoch 32/100\n",
      "123/123 - 0s - loss: 131.1325 - val_loss: 126.4055 - 334ms/epoch - 3ms/step\n",
      "Epoch 33/100\n",
      "123/123 - 0s - loss: 120.9505 - val_loss: 116.5018 - 329ms/epoch - 3ms/step\n",
      "Epoch 34/100\n",
      "123/123 - 0s - loss: 111.2641 - val_loss: 107.4593 - 332ms/epoch - 3ms/step\n",
      "Epoch 35/100\n",
      "123/123 - 0s - loss: 102.3798 - val_loss: 98.8110 - 328ms/epoch - 3ms/step\n",
      "Epoch 36/100\n",
      "123/123 - 0s - loss: 94.2040 - val_loss: 90.2816 - 334ms/epoch - 3ms/step\n",
      "Epoch 37/100\n",
      "123/123 - 0s - loss: 85.8734 - val_loss: 82.6028 - 349ms/epoch - 3ms/step\n",
      "Epoch 38/100\n",
      "123/123 - 0s - loss: 78.4922 - val_loss: 76.2129 - 336ms/epoch - 3ms/step\n",
      "Epoch 39/100\n",
      "123/123 - 0s - loss: 71.9944 - val_loss: 69.2883 - 347ms/epoch - 3ms/step\n",
      "Epoch 40/100\n",
      "123/123 - 0s - loss: 65.7744 - val_loss: 64.4511 - 336ms/epoch - 3ms/step\n",
      "Epoch 41/100\n",
      "123/123 - 0s - loss: 60.4919 - val_loss: 58.5797 - 331ms/epoch - 3ms/step\n",
      "Epoch 42/100\n",
      "123/123 - 0s - loss: 55.7438 - val_loss: 54.4165 - 341ms/epoch - 3ms/step\n",
      "Epoch 43/100\n",
      "123/123 - 0s - loss: 51.6619 - val_loss: 50.3413 - 332ms/epoch - 3ms/step\n",
      "Epoch 44/100\n",
      "123/123 - 0s - loss: 48.1996 - val_loss: 47.6026 - 332ms/epoch - 3ms/step\n",
      "Epoch 45/100\n",
      "123/123 - 0s - loss: 45.1828 - val_loss: 44.3638 - 328ms/epoch - 3ms/step\n",
      "Epoch 46/100\n",
      "123/123 - 0s - loss: 42.7085 - val_loss: 42.3331 - 330ms/epoch - 3ms/step\n",
      "Epoch 47/100\n",
      "123/123 - 0s - loss: 40.6126 - val_loss: 40.3116 - 332ms/epoch - 3ms/step\n",
      "Epoch 48/100\n",
      "123/123 - 0s - loss: 39.0329 - val_loss: 38.7646 - 333ms/epoch - 3ms/step\n",
      "Epoch 49/100\n",
      "123/123 - 0s - loss: 37.5722 - val_loss: 37.5238 - 334ms/epoch - 3ms/step\n",
      "Epoch 50/100\n",
      "123/123 - 0s - loss: 36.5334 - val_loss: 36.5475 - 330ms/epoch - 3ms/step\n",
      "Epoch 51/100\n",
      "123/123 - 0s - loss: 35.6636 - val_loss: 35.9136 - 325ms/epoch - 3ms/step\n",
      "Epoch 52/100\n",
      "123/123 - 0s - loss: 35.0005 - val_loss: 35.2776 - 316ms/epoch - 3ms/step\n",
      "Epoch 53/100\n",
      "123/123 - 0s - loss: 34.5109 - val_loss: 35.4151 - 317ms/epoch - 3ms/step\n",
      "Epoch 54/100\n",
      "123/123 - 0s - loss: 33.8450 - val_loss: 34.2227 - 346ms/epoch - 3ms/step\n",
      "Epoch 55/100\n",
      "123/123 - 0s - loss: 33.7104 - val_loss: 33.8131 - 369ms/epoch - 3ms/step\n",
      "Epoch 56/100\n",
      "123/123 - 0s - loss: 33.1879 - val_loss: 33.8084 - 336ms/epoch - 3ms/step\n",
      "Epoch 57/100\n",
      "123/123 - 0s - loss: 32.9765 - val_loss: 33.8510 - 337ms/epoch - 3ms/step\n",
      "Epoch 58/100\n",
      "123/123 - 0s - loss: 32.7401 - val_loss: 32.9039 - 334ms/epoch - 3ms/step\n",
      "Epoch 59/100\n",
      "123/123 - 0s - loss: 32.4000 - val_loss: 32.7230 - 332ms/epoch - 3ms/step\n",
      "Epoch 60/100\n",
      "123/123 - 0s - loss: 32.1758 - val_loss: 34.2965 - 334ms/epoch - 3ms/step\n",
      "Epoch 61/100\n",
      "123/123 - 0s - loss: 32.1253 - val_loss: 32.1174 - 362ms/epoch - 3ms/step\n",
      "Epoch 62/100\n",
      "123/123 - 0s - loss: 31.6712 - val_loss: 31.7876 - 331ms/epoch - 3ms/step\n",
      "Epoch 63/100\n",
      "123/123 - 0s - loss: 31.4591 - val_loss: 32.5944 - 337ms/epoch - 3ms/step\n",
      "Epoch 64/100\n",
      "123/123 - 0s - loss: 31.3713 - val_loss: 32.0525 - 332ms/epoch - 3ms/step\n",
      "Epoch 65/100\n",
      "123/123 - 0s - loss: 31.1407 - val_loss: 31.2667 - 335ms/epoch - 3ms/step\n",
      "Epoch 66/100\n",
      "123/123 - 0s - loss: 30.7058 - val_loss: 30.9396 - 354ms/epoch - 3ms/step\n",
      "Epoch 67/100\n",
      "123/123 - 0s - loss: 30.8185 - val_loss: 30.6489 - 336ms/epoch - 3ms/step\n",
      "Epoch 68/100\n",
      "123/123 - 0s - loss: 30.2774 - val_loss: 30.4890 - 331ms/epoch - 3ms/step\n",
      "Epoch 69/100\n",
      "123/123 - 0s - loss: 30.0174 - val_loss: 30.1838 - 328ms/epoch - 3ms/step\n",
      "Epoch 70/100\n",
      "123/123 - 0s - loss: 30.2608 - val_loss: 29.9603 - 318ms/epoch - 3ms/step\n",
      "Epoch 71/100\n",
      "123/123 - 0s - loss: 29.6369 - val_loss: 29.7855 - 314ms/epoch - 3ms/step\n",
      "Epoch 72/100\n",
      "123/123 - 0s - loss: 29.5073 - val_loss: 29.6012 - 328ms/epoch - 3ms/step\n",
      "Epoch 73/100\n",
      "123/123 - 0s - loss: 29.3442 - val_loss: 29.5948 - 326ms/epoch - 3ms/step\n",
      "Epoch 74/100\n",
      "123/123 - 0s - loss: 29.2749 - val_loss: 29.2571 - 320ms/epoch - 3ms/step\n",
      "Epoch 75/100\n",
      "123/123 - 0s - loss: 29.1671 - val_loss: 29.7175 - 314ms/epoch - 3ms/step\n",
      "Epoch 76/100\n",
      "123/123 - 0s - loss: 28.9466 - val_loss: 28.9092 - 331ms/epoch - 3ms/step\n",
      "Epoch 77/100\n",
      "123/123 - 0s - loss: 29.0024 - val_loss: 29.4492 - 326ms/epoch - 3ms/step\n",
      "Epoch 78/100\n",
      "123/123 - 0s - loss: 28.5296 - val_loss: 29.2125 - 318ms/epoch - 3ms/step\n",
      "Epoch 79/100\n",
      "123/123 - 0s - loss: 28.3815 - val_loss: 29.4951 - 314ms/epoch - 3ms/step\n",
      "Epoch 80/100\n",
      "123/123 - 0s - loss: 28.3355 - val_loss: 28.3897 - 326ms/epoch - 3ms/step\n",
      "Epoch 81/100\n",
      "123/123 - 0s - loss: 27.9038 - val_loss: 28.1082 - 316ms/epoch - 3ms/step\n",
      "Epoch 82/100\n",
      "123/123 - 0s - loss: 28.0332 - val_loss: 27.7971 - 312ms/epoch - 3ms/step\n",
      "Epoch 83/100\n",
      "123/123 - 0s - loss: 28.1417 - val_loss: 30.9131 - 330ms/epoch - 3ms/step\n",
      "Epoch 84/100\n",
      "123/123 - 0s - loss: 27.5617 - val_loss: 30.0856 - 326ms/epoch - 3ms/step\n",
      "Epoch 85/100\n",
      "123/123 - 0s - loss: 28.1237 - val_loss: 31.4882 - 317ms/epoch - 3ms/step\n",
      "Epoch 86/100\n",
      "123/123 - 0s - loss: 27.4371 - val_loss: 29.8745 - 322ms/epoch - 3ms/step\n",
      "Epoch 87/100\n",
      "123/123 - 0s - loss: 27.4392 - val_loss: 35.2196 - 327ms/epoch - 3ms/step\n",
      "Epoch 88/100\n",
      "123/123 - 0s - loss: 27.4566 - val_loss: 27.9446 - 331ms/epoch - 3ms/step\n",
      "Epoch 89/100\n",
      "123/123 - 0s - loss: 27.0925 - val_loss: 27.0838 - 313ms/epoch - 3ms/step\n",
      "Epoch 90/100\n",
      "123/123 - 0s - loss: 27.3455 - val_loss: 27.4780 - 323ms/epoch - 3ms/step\n",
      "Epoch 91/100\n",
      "123/123 - 0s - loss: 27.9590 - val_loss: 27.7344 - 372ms/epoch - 3ms/step\n",
      "Epoch 92/100\n",
      "123/123 - 0s - loss: 26.8812 - val_loss: 26.9532 - 338ms/epoch - 3ms/step\n",
      "Epoch 93/100\n",
      "123/123 - 0s - loss: 26.8663 - val_loss: 27.2925 - 316ms/epoch - 3ms/step\n",
      "Epoch 94/100\n",
      "123/123 - 0s - loss: 27.4107 - val_loss: 26.8012 - 335ms/epoch - 3ms/step\n",
      "Epoch 95/100\n",
      "123/123 - 0s - loss: 26.7657 - val_loss: 28.0435 - 324ms/epoch - 3ms/step\n",
      "Epoch 96/100\n",
      "123/123 - 0s - loss: 26.8482 - val_loss: 26.7478 - 322ms/epoch - 3ms/step\n",
      "Epoch 97/100\n",
      "123/123 - 0s - loss: 27.1819 - val_loss: 26.7151 - 311ms/epoch - 3ms/step\n",
      "Epoch 98/100\n",
      "123/123 - 0s - loss: 26.4088 - val_loss: 26.8536 - 325ms/epoch - 3ms/step\n",
      "Epoch 99/100\n",
      "123/123 - 0s - loss: 26.6223 - val_loss: 28.1248 - 304ms/epoch - 2ms/step\n",
      "Epoch 100/100\n",
      "123/123 - 0s - loss: 26.7730 - val_loss: 29.5719 - 321ms/epoch - 3ms/step\n"
     ]
    },
    {
     "data": {
      "text/plain": [
       "<keras.callbacks.History at 0x2265a156f70>"
      ]
     },
     "execution_count": 26,
     "metadata": {},
     "output_type": "execute_result"
    }
   ],
   "source": [
    "# 訓練模型\n",
    "ann_model.fit(x = data_X_train, y = data_Y_train, batch_size= 50, epochs= 100, verbose = 2, validation_split= 0.2)"
   ]
  },
  {
   "cell_type": "markdown",
   "metadata": {},
   "source": [
    "### **模型預測**"
   ]
  },
  {
   "cell_type": "code",
   "execution_count": 27,
   "metadata": {},
   "outputs": [
    {
     "name": "stdout",
     "output_type": "stream",
     "text": [
      "60/60 [==============================] - 0s 2ms/step\n"
     ]
    }
   ],
   "source": [
    "Y_test_predict = ann_model.predict(x= data_X_test)"
   ]
  },
  {
   "cell_type": "code",
   "execution_count": 33,
   "metadata": {},
   "outputs": [
    {
     "data": {
      "text/plain": [
       "array([455.31738, 436.24542, 432.14026, ..., 478.43073, 434.05612,\n",
       "       455.88992], dtype=float32)"
      ]
     },
     "execution_count": 33,
     "metadata": {},
     "output_type": "execute_result"
    }
   ],
   "source": [
    "Y_test_predict= Y_test_predict.reshape(-1)\n",
    "print(Y_test_predict, Y_test_predict.shape)"
   ]
  },
  {
   "cell_type": "code",
   "execution_count": 35,
   "metadata": {},
   "outputs": [
    {
     "name": "stdout",
     "output_type": "stream",
     "text": [
      "[455.27 436.31 440.68 ... 479.53 435.76 457.1 ] (1914,)\n"
     ]
    }
   ],
   "source": [
    "data_Y_test\n",
    "print(data_Y_test, data_Y_test.shape)"
   ]
  },
  {
   "cell_type": "code",
   "execution_count": 36,
   "metadata": {},
   "outputs": [
    {
     "name": "stdout",
     "output_type": "stream",
     "text": [
      "[455.32 436.25 432.14 ... 478.43 434.06 455.89] (1914,)\n"
     ]
    }
   ],
   "source": [
    "# 劃出預測誤差\n",
    "np.set_printoptions(precision=2)#  預測的小數點調至小數點第二位 -> numpy顯示的數字都調整至小數點第二位\n",
    "print(Y_test_predict, Y_test_predict.shape)"
   ]
  },
  {
   "cell_type": "code",
   "execution_count": 40,
   "metadata": {},
   "outputs": [
    {
     "data": {
      "image/png": "[encoded data removed]",
      "text/plain": [
       "<Figure size 640x480 with 1 Axes>"
      ]
     },
     "metadata": {},
     "output_type": "display_data"
    }
   ],
   "source": [
    "# 畫圖比較誤差\n",
    "plt.plot(data_Y_test)\n",
    "plt.plot(Y_test_predict)\n",
    "plt.show()\n",
    "print(np.vstack((Y_test_predict,data_Y_test)))\n"
   ]
  },
  {
   "cell_type": "code",
   "execution_count": 41,
   "metadata": {},
   "outputs": [
    {
     "name": "stdout",
     "output_type": "stream",
     "text": [
      "[[455.32 436.25 432.14 ... 478.43 434.06 455.89]\n",
      " [455.27 436.31 440.68 ... 479.53 435.76 457.1 ]]\n"
     ]
    }
   ],
   "source": []
  },
  {
   "cell_type": "code",
   "execution_count": null,
   "metadata": {},
   "outputs": [],
   "source": []
  }
 ],
 "metadata": {
  "kernelspec": {
   "display_name": "env01",
   "language": "python",
   "name": "python3"
  },
  "language_info": {
   "codemirror_mode": {
    "name": "ipython",
    "version": 3
   },
   "file_extension": ".py",
   "mimetype": "text/x-python",
   "name": "python",
   "nbconvert_exporter": "python",
   "pygments_lexer": "ipython3",
   "version": "3.9.7"
  },
  "orig_nbformat": 4
 },
 "nbformat": 4,
 "nbformat_minor": 2
}
