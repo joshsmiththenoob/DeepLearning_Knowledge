{
 "cells": [
  {
   "cell_type": "code",
   "execution_count": 11,
   "metadata": {},
   "outputs": [
    {
     "name": "stdout",
     "output_type": "stream",
     "text": [
      "(670, 100) (670,)\n",
      "SVR在原始數據訓練後且預估的誤差 :  89.5108203613063\n",
      "WARNING:tensorflow:No training configuration found in the save file, so the model was *not* compiled. Compile it manually.\n",
      "21/21 [==============================] - 0s 2ms/step\n"
     ]
    },
    {
     "name": "stderr",
     "output_type": "stream",
     "text": [
      "d:\\DeepLearning_Knowledge\\env01\\lib\\site-packages\\sklearn\\utils\\validation.py:1143: DataConversionWarning: A column-vector y was passed when a 1d array was expected. Please change the shape of y to (n_samples, ), for example using ravel().\n",
      "  y = column_or_1d(y, warn=True)\n"
     ]
    },
    {
     "name": "stdout",
     "output_type": "stream",
     "text": [
      "11/11 [==============================] - 0s 2ms/step\n"
     ]
    }
   ],
   "source": [
    "# AutoEncoder 預估程式\n",
    "# 使用支持向量機進行同樣的回歸預測 -> 以 SVM - Regression (SVR) 為基礎來評估、比較AutoEncoder的好壞 -> 如果SVM好，這個AutoEncoder就沒有價值了\n",
    "\n",
    "'''\n",
    " 建立SVR, 以做比較基準(baseline)\n",
    "'''\n",
    "# baseline in performance with support vector regression model\n",
    "from sklearn.datasets import make_regression\n",
    "from sklearn.preprocessing import MinMaxScaler\n",
    "from sklearn.model_selection import train_test_split\n",
    "from sklearn.svm import SVR\n",
    "from sklearn.metrics import mean_absolute_error\n",
    "from tensorflow.keras.models import load_model\n",
    "\n",
    "# 創建dataset\n",
    "X_data, Y_data = make_regression(n_samples= 1000, n_features= 100, n_informative= 10, noise= 0.1, random_state= 1)\n",
    "# 切割成訓練、測試集\n",
    "X_train, X_test, Y_train, Y_test = train_test_split(X_data, Y_data, test_size=0.33, random_state=1)\n",
    "print(X_train.shape, Y_train.shape)\n",
    "# reshape target variables so that we can transform them : MinMaxScaler吃的是二維矩陣(100,) -> (100,1)\n",
    "Y_train = Y_train.reshape((len(Y_train), 1))\n",
    "Y_test = Y_test.reshape((len(Y_test), 1))\n",
    "\n",
    "# Normalize input data\n",
    "trans_in = MinMaxScaler()\n",
    "X_train = trans_in.fit_transform(X_train)\n",
    "X_test = trans_in.transform(X_test)\n",
    "\n",
    "# Normalize output data\n",
    "trans_out = MinMaxScaler()\n",
    "Y_train = trans_out.fit_transform(Y_train)\n",
    "Y_test = trans_out.transform(Y_test)\n",
    "\n",
    "\n",
    "# define model\n",
    "model = SVR()\n",
    "\n",
    "# SVR 訓練 : fit model on the training dataset\n",
    "model.fit(X_train, Y_train)\n",
    "\n",
    "# SVR 預測 : 從測試集訓練\n",
    "yhat = model.predict(X_test)\n",
    "\n",
    "# 預測結果去歸一化 : invert transforms so we can calculate errors\n",
    "yhat = yhat.reshape((len(yhat), 1))\n",
    "yhat = trans_out.inverse_transform(yhat)\n",
    "Y_test = trans_out.inverse_transform(Y_test)\n",
    "# 計算SVR預測出的誤差誤差 : calculate error (MAE)\n",
    "score = mean_absolute_error(Y_test, yhat)\n",
    "print('SVR在原始數據訓練後且預估的誤差 : ', score)\n",
    "\n",
    "\n",
    "\n",
    "'''\n",
    "使用訓練好的Encode Model做回歸預測\n",
    "'''\n",
    "# load the model from file\n",
    "encoder = load_model('encoder.h5')\n",
    "\n",
    "# 利用encoder 去轉換將raw data (100個特徵) 轉換至 瓶頸bottleneck的輸出向量(100個特徵向量)\n",
    "# encode the train data\n",
    "X_train_encode = encoder.predict(X_train)\n",
    "# encode the test data\n",
    "X_test_encode = encoder.predict(X_test)\n",
    "\n"
   ]
  },
  {
   "cell_type": "code",
   "execution_count": 14,
   "metadata": {},
   "outputs": [
    {
     "name": "stdout",
     "output_type": "stream",
     "text": [
      "多了Encoder進行特徵擷取後,所得出的SVR預估誤差 :  77.4052416579982\n"
     ]
    },
    {
     "name": "stderr",
     "output_type": "stream",
     "text": [
      "d:\\DeepLearning_Knowledge\\env01\\lib\\site-packages\\sklearn\\utils\\validation.py:1143: DataConversionWarning: A column-vector y was passed when a 1d array was expected. Please change the shape of y to (n_samples, ), for example using ravel().\n",
      "  y = column_or_1d(y, warn=True)\n"
     ]
    }
   ],
   "source": [
    "# 用這些轉換過後的特徵向量data去訓練SVR模型\n",
    "# define model\n",
    "model = SVR()\n",
    "# 利用特徵向量其中的訓練集去訓練SVR model : fit model on the training dataset\n",
    "model.fit(X_train_encode, Y_train)\n",
    "# SVR訓練完後，再預測測試集(特徵向量)的結果 yhat\n",
    "yhat = model.predict(X_test_encode)\n",
    "\n",
    "Y_test = trans_out.transform(Y_test)\n",
    "# 預測結果去歸一化 : invert transforms so we can calculate errors\n",
    "yhat = yhat.reshape((len(yhat), 1))\n",
    "yhat = trans_out.inverse_transform(yhat)\n",
    "y_test = trans_out.inverse_transform(Y_test)\n",
    "# 計算SVR預測出的誤差誤差 : calculate error (MAE)\n",
    "score = mean_absolute_error(y_test, yhat)\n",
    "print('多了Encoder進行特徵擷取後,所得出的SVR預估誤差 : ',score)"
   ]
  },
  {
   "cell_type": "code",
   "execution_count": null,
   "metadata": {},
   "outputs": [],
   "source": []
  }
 ],
 "metadata": {
  "kernelspec": {
   "display_name": "env01",
   "language": "python",
   "name": "python3"
  },
  "language_info": {
   "codemirror_mode": {
    "name": "ipython",
    "version": 3
   },
   "file_extension": ".py",
   "mimetype": "text/x-python",
   "name": "python",
   "nbconvert_exporter": "python",
   "pygments_lexer": "ipython3",
   "version": "3.8.10"
  },
  "orig_nbformat": 4
 },
 "nbformat": 4,
 "nbformat_minor": 2
}
